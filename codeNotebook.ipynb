{
 "cells": [
  {
   "cell_type": "markdown",
   "id": "ab7bb472",
   "metadata": {},
   "source": [
    "df.info()\n",
    "\n",
    "- DataFrame has 1,000 rows , columns < 1000 have missing values\n",
    "- identify datatype(object means categorical data)\n",
    "\n",
    "next: handle columns with missing value "
   ]
  },
  {
   "cell_type": "code",
   "execution_count": null,
   "id": "920ee6dd",
   "metadata": {
    "vscode": {
     "languageId": "plaintext"
    }
   },
   "outputs": [],
   "source": [
    "<class 'pandas.core.frame.DataFrame'>\n",
    "RangeIndex: 1000 entries, 0 to 999\n",
    "Data columns (total 19 columns):\n",
    " #   Column           Non-Null Count  Dtype  \n",
    "---  ------           --------------  -----  \n",
    " 0   Default          1000 non-null   int64  \n",
    " 1   checkingstatus1  1000 non-null   object \n",
    " 2   duration         991 non-null    float64\n",
    " 3   history          1000 non-null   object \n",
    " 4   purpose          997 non-null    object \n",
    " 5   amount           1000 non-null   int64  \n",
    " 6   savings          983 non-null    object \n",
    " 7   employ           995 non-null    object \n",
    " 8   status           985 non-null    object \n",
    " 9   others           1000 non-null   object \n",
    " 10  residence        986 non-null    float64\n",
    " 11  property         997 non-null    object \n",
    " 12  age              1000 non-null   int64  \n",
    " 13  otherplans       993 non-null    object \n",
    " 14  housing          1000 non-null   object \n",
    " 15  cards            993 non-null    float64\n",
    " 16  job              999 non-null    object \n",
    " 17  liable           1000 non-null   int64  \n",
    " 18  foreign          996 non-null    object \n",
    "dtypes: float64(3), int64(4), object(12)\n",
    "memory usage: 148.6+ KB"
   ]
  },
  {
   "cell_type": "markdown",
   "id": "174fe008",
   "metadata": {},
   "source": [
    "identify unique value\n",
    "- determine whether to use one-hot encoding or not \n",
    "- whether a column is high cardinality(too many unique values) or low cardinality\n",
    "\n",
    "next:\n",
    "- .fillna() replace categorical one with missing date\n",
    "- encode categorical (<10) for further model handling \n",
    "- .median() replace numerical one "
   ]
  },
  {
   "cell_type": "code",
   "execution_count": null,
   "id": "4ea0d89c",
   "metadata": {
    "vscode": {
     "languageId": "plaintext"
    }
   },
   "outputs": [],
   "source": [
    "Default              2\n",
    "checkingstatus1      4\n",
    "duration            33\n",
    "history              5\n",
    "purpose             10\n",
    "amount             921\n",
    "savings              5\n",
    "employ               5\n",
    "status               4\n",
    "others               3\n",
    "residence            4\n",
    "property             4\n",
    "age                 53\n",
    "otherplans           3\n",
    "housing              3\n",
    "cards                4\n",
    "job                  4\n",
    "liable               2\n",
    "foreign              2\n",
    "dtype: int64\n"
   ]
  },
  {
   "cell_type": "markdown",
   "id": "ecb6f262",
   "metadata": {},
   "source": [
    "identify missing values and replacing\n",
    "\n",
    "-These are likely nominal or ordinal categories, and each has a few missing entries (less than 2% in most cases)\n",
    "\n",
    "next:\n",
    "- keep all columns and handle missing data"
   ]
  },
  {
   "cell_type": "code",
   "execution_count": null,
   "id": "051dbf3f",
   "metadata": {
    "vscode": {
     "languageId": "plaintext"
    }
   },
   "outputs": [],
   "source": [
    "\n",
    "                  Mising Value  percentage Missing\n",
    "savings                    17                 1.7\n",
    "status                     15                 1.5\n",
    "residence                  14                 1.4\n",
    "duration                    9                 0.9\n",
    "otherplans                  7                 0.7\n",
    "cards                       7                 0.7\n",
    "employ                      5                 0.5\n",
    "foreign                     4                 0.4\n",
    "purpose                     3                 0.3\n",
    "property                    3                 0.3\n",
    "job                         1                 0.1\n",
    "liable                      0                 0.0\n",
    "housing                     0                 0.0\n",
    "Default                     0                 0.0\n",
    "age                         0                 0.0\n",
    "checkingstatus1             0                 0.0\n",
    "amount                      0                 0.0\n",
    "history                     0                 0.0\n",
    "others                      0                 0.0"
   ]
  }
 ],
 "metadata": {
  "language_info": {
   "name": "python"
  }
 },
 "nbformat": 4,
 "nbformat_minor": 5
}
