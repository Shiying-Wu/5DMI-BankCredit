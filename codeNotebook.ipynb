{
 "cells": [
  {
   "cell_type": "markdown",
   "id": "2e82b0be",
   "metadata": {},
   "source": [
    "数据预处理对比情况\n",
    "\n",
    "object：\n",
    "- fill out missing data\n",
    "- encoding dataset for modeling\n",
    "- keep proper dimention(dataset size)\n",
    "\n",
    "1. missing data : imputation/Dropped rows/missing flags/fill with major group/ fill with average\n",
    "2. Discrezation : (scale down the size of a data)  class label /aggregation\n",
    "3. encoding 是不是不属于DATA PREPROCESSING?"
   ]
  },
  {
   "cell_type": "markdown",
   "id": "96e3b9a3",
   "metadata": {},
   "source": []
  }
 ],
 "metadata": {
  "language_info": {
   "name": "python"
  }
 },
 "nbformat": 4,
 "nbformat_minor": 5
}
